{
 "cells": [
  {
   "cell_type": "code",
   "execution_count": 2,
   "metadata": {},
   "outputs": [
    {
     "name": "stdout",
     "output_type": "stream",
     "text": [
      "LR_score:  0.6709621447099378\n",
      "SVR_score:  -0.15466851234835377\n",
      "[[1 0 0 ... 0 1 0]\n",
      " [0 0 0 ... 0 1 0]\n",
      " [1 0 0 ... 0 1 0]\n",
      " ...\n",
      " [1 0 0 ... 0 1 0]\n",
      " [0 0 1 ... 0 1 0]\n",
      " [0 1 0 ... 0 1 0]]\n",
      "[ 1  1  3  2  2  1  1  1  1  1  4  5  1  1  1  1  3  3  4  1  3  2  2  4\n",
      "  1  1  1  7  3  5  3  2  1  3  2  3  4  2  3  5  5  1  1  8  2  2  8  3\n",
      "  2  3  5  1  1  1  1  3  1  1  1  2  2  6  5  1  1  1  1  1  1  2 10  0\n",
      "  0  0  0  0  0  0  0  0  0  0]\n",
      "[3 1 1 1 1 3 1 1 3 1 1 1 1 1 2 1 1 2 1 1 1]\n",
      "MLPC_Accuracy:  0.42857142857142855\n"
     ]
    },
    {
     "name": "stderr",
     "output_type": "stream",
     "text": [
      "/Users/yangb8/miniconda3/lib/python3.7/site-packages/sklearn/neural_network/multilayer_perceptron.py:566: ConvergenceWarning: Stochastic Optimizer: Maximum iterations (200) reached and the optimization hasn't converged yet.\n",
      "  % self.max_iter, ConvergenceWarning)\n"
     ]
    }
   ],
   "source": [
    "import pandas as pd\n",
    "# function to split datasets# \n",
    "from sklearn.model_selection import train_test_split\n",
    "import numpy as np\n",
    "## a few regression methods including LinearRegression and SVM regression##\n",
    "from sklearn.linear_model import LinearRegression\n",
    "from sklearn.svm import SVR\n",
    "## a neural network model##\n",
    "from sklearn.neural_network import MLPClassifier\n",
    "\n",
    "##Linear_regression module##\n",
    "class Model_LR: \n",
    "    def __init__(self, datafile = \"gRNA_feature_binary_continuous.xlsx\"):\n",
    "        self.df = pd.read_excel(datafile)\n",
    "        self.linear_regression = LinearRegression(fit_intercept=True)\n",
    "    def fit(self):\n",
    "        self.X = np.array(self.df.iloc[:,2:])\n",
    "        self.y = np.array(self.df.iloc[:,0])\n",
    "        self.model = self.linear_regression.fit(self.X, self.y)\n",
    "if __name__ == '__main__':\n",
    "    model_instance = Model_LR()\n",
    "    model_instance.fit()    \n",
    "    print(\"LR_score: \", model_instance.model.score(model_instance.X, model_instance.y)\n",
    "\n",
    "## SVR module##\n",
    "class Model_SVR: \n",
    "    def __init__(self, datafile = \"gRNA_feature_binary_continuous.xlsx\"):\n",
    "        self.df = pd.read_excel(datafile)\n",
    "        self.SVR = SVR(C=0.3,gamma = \"scale\")\n",
    "    def fit(self):\n",
    "        self.X = np.array(self.df.iloc[:,2:])\n",
    "        self.y = np.array(self.df.iloc[:,0])\n",
    "        self.model = self.SVR.fit(self.X, self.y)\n",
    "if __name__ == '__main__':\n",
    "    model_instance = Model_SVR()\n",
    "    model_instance.fit()   \n",
    "    print(\"SVR_score: \",model_instance.model.score(model_instance.X, model_instance.y))\n",
    "    \n",
    "##Neural network_MLPC##   \n",
    "class Model_MLPC:\n",
    "    def __init__(self, datafile = \"gRNA_feature_binary_binned.xlsx\"):\n",
    "        self.df = pd.read_excel(datafile)\n",
    "        self.MLPC = MLPClassifier()\n",
    "        self.svc = SVC()\n",
    "    # split module to shuffle and split data for traning and testin purposes##\n",
    "    def split(self, test_size):\n",
    "        X = np.array(self.df.iloc[:,2:])\n",
    "    #label for the editing efficiency score on a scale from 0 to 10# \n",
    "        y = np.array(self.df.iloc[:,0])\n",
    "        y = y.astype(\"int\")\n",
    "    #shuffle and randomized data for training and test##\n",
    "        self.X_train, self.X_test, self.y_train, self.y_test = train_test_split(X, y, test_size = test_size, random_state = 42)\n",
    "    def fit(self):\n",
    "        self.model = self.MLPC.fit(self.X_train, self.y_train,)\n",
    "    def predict(self):\n",
    "        result = self.MLPC.predict(self.X_test)\n",
    "        return result\n",
    "if __name__ == '__main__':\n",
    "    model_instance = Model_MLPC()\n",
    "    model_instance.split(0.25)\n",
    "    model_instance.fit() \n",
    "    print(model_instance.predict())   \n",
    "    print(\"MLPC_Accuracy: \",model_instance.model.score(model_instance.X_test, model_instance.y_test))\n",
    "        \n",
    "        \n",
    "        "
   ]
  },
  {
   "cell_type": "code",
   "execution_count": null,
   "metadata": {},
   "outputs": [],
   "source": []
  },
  {
   "cell_type": "code",
   "execution_count": null,
   "metadata": {},
   "outputs": [],
   "source": []
  }
 ],
 "metadata": {
  "kernelspec": {
   "display_name": "Python 3",
   "language": "python",
   "name": "python3"
  },
  "language_info": {
   "codemirror_mode": {
    "name": "ipython",
    "version": 3
   },
   "file_extension": ".py",
   "mimetype": "text/x-python",
   "name": "python",
   "nbconvert_exporter": "python",
   "pygments_lexer": "ipython3",
   "version": "3.7.2"
  }
 },
 "nbformat": 4,
 "nbformat_minor": 2
}
